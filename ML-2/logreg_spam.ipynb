{
 "cells": [
  {
   "cell_type": "markdown",
   "metadata": {},
   "source": [
    "# Using regularized logistic regression to classify email"
   ]
  },
  {
   "cell_type": "code",
   "execution_count": 1,
   "metadata": {
    "scrolled": true
   },
   "outputs": [],
   "source": [
    "import pandas as pd\n",
    "import numpy as np\n",
    "import matplotlib.pyplot as plt\n",
    "import utils\n",
    "from sklearn import linear_model\n",
    "#import sklearn.cross_validation\n",
    "from sklearn import model_selection\n",
    "#from sklearn.cross_validation import KFold\n",
    "import scipy.io\n",
    "\n",
    "# This is a bit of magic to make matplotlib figures appear inline in the notebook\n",
    "# rather than in a new window.\n",
    "%matplotlib inline\n",
    "plt.rcParams['figure.figsize'] = (10.0, 8.0) # set default size of plots\n",
    "plt.rcParams['image.interpolation'] = 'nearest'\n",
    "plt.rcParams['image.cmap'] = 'gray'\n",
    "\n",
    "# Some more magic so that the notebook will reload external python modules;\n",
    "# see http://stackoverflow.com/questions/1907993/autoreload-of-modules-in-ipython\n",
    "%load_ext autoreload\n",
    "%autoreload 2"
   ]
  },
  {
   "cell_type": "code",
   "execution_count": 2,
   "metadata": {
    "scrolled": false
   },
   "outputs": [
    {
     "name": "stdout",
     "output_type": "stream",
     "text": [
      "L2 Penalty experiments -----------\n"
     ]
    },
    {
     "name": "stderr",
     "output_type": "stream",
     "text": [
      "C:\\Users\\Scott\\Anaconda3\\lib\\site-packages\\sklearn\\linear_model\\logistic.py:758: ConvergenceWarning: lbfgs failed to converge. Increase the number of iterations.\n",
      "  \"of iterations.\", ConvergenceWarning)\n",
      "C:\\Users\\Scott\\Anaconda3\\lib\\site-packages\\sklearn\\linear_model\\logistic.py:758: ConvergenceWarning: lbfgs failed to converge. Increase the number of iterations.\n",
      "  \"of iterations.\", ConvergenceWarning)\n",
      "C:\\Users\\Scott\\Anaconda3\\lib\\site-packages\\sklearn\\linear_model\\logistic.py:758: ConvergenceWarning: lbfgs failed to converge. Increase the number of iterations.\n",
      "  \"of iterations.\", ConvergenceWarning)\n",
      "C:\\Users\\Scott\\Anaconda3\\lib\\site-packages\\sklearn\\linear_model\\logistic.py:758: ConvergenceWarning: lbfgs failed to converge. Increase the number of iterations.\n",
      "  \"of iterations.\", ConvergenceWarning)\n",
      "C:\\Users\\Scott\\Anaconda3\\lib\\site-packages\\sklearn\\linear_model\\logistic.py:758: ConvergenceWarning: lbfgs failed to converge. Increase the number of iterations.\n",
      "  \"of iterations.\", ConvergenceWarning)\n",
      "C:\\Users\\Scott\\Anaconda3\\lib\\site-packages\\sklearn\\linear_model\\logistic.py:758: ConvergenceWarning: lbfgs failed to converge. Increase the number of iterations.\n",
      "  \"of iterations.\", ConvergenceWarning)\n",
      "C:\\Users\\Scott\\Anaconda3\\lib\\site-packages\\sklearn\\linear_model\\logistic.py:758: ConvergenceWarning: lbfgs failed to converge. Increase the number of iterations.\n",
      "  \"of iterations.\", ConvergenceWarning)\n",
      "C:\\Users\\Scott\\Anaconda3\\lib\\site-packages\\sklearn\\linear_model\\logistic.py:758: ConvergenceWarning: lbfgs failed to converge. Increase the number of iterations.\n",
      "  \"of iterations.\", ConvergenceWarning)\n",
      "C:\\Users\\Scott\\Anaconda3\\lib\\site-packages\\sklearn\\linear_model\\logistic.py:758: ConvergenceWarning: lbfgs failed to converge. Increase the number of iterations.\n",
      "  \"of iterations.\", ConvergenceWarning)\n",
      "C:\\Users\\Scott\\Anaconda3\\lib\\site-packages\\sklearn\\linear_model\\logistic.py:758: ConvergenceWarning: lbfgs failed to converge. Increase the number of iterations.\n",
      "  \"of iterations.\", ConvergenceWarning)\n"
     ]
    },
    {
     "name": "stdout",
     "output_type": "stream",
     "text": [
      "best_lambda = 4.100\n",
      "Coefficients = [-1.62837284] [[-0.01839052 -0.21661119  0.13128384  0.48674888  0.2602243   0.18532733\n",
      "   0.90344911  0.31288822  0.14199547  0.06198638 -0.05335911 -0.15162932\n",
      "  -0.0516569   0.02767041  0.23856918  0.76613529  0.46856035  0.08308522\n",
      "   0.26257561  0.22073129  0.26177729  0.41125323  0.7503693   0.26021176\n",
      "  -1.80207063 -0.62172528 -1.83095331 -0.11174736 -0.67814627 -0.16857307\n",
      "  -0.29711007 -0.20770702 -0.41815432 -0.42931161 -0.34816875  0.32415601\n",
      "   0.010483   -0.14344427 -0.3803836  -0.09968338 -0.63272648 -0.95488787\n",
      "  -0.32285734 -0.7132242  -0.79373552 -1.16416329 -0.133999   -0.67460068\n",
      "  -0.33001795 -0.15734097 -0.11687446  0.22802517  1.48301759  0.49456055\n",
      "  -0.12310253  0.83739199  0.38195683]]\n",
      "Accuracy on set aside test set for std = 0.9219\n"
     ]
    },
    {
     "name": "stderr",
     "output_type": "stream",
     "text": [
      "C:\\Users\\Scott\\Anaconda3\\lib\\site-packages\\sklearn\\linear_model\\logistic.py:758: ConvergenceWarning: lbfgs failed to converge. Increase the number of iterations.\n",
      "  \"of iterations.\", ConvergenceWarning)\n",
      "C:\\Users\\Scott\\Anaconda3\\lib\\site-packages\\sklearn\\linear_model\\logistic.py:758: ConvergenceWarning: lbfgs failed to converge. Increase the number of iterations.\n",
      "  \"of iterations.\", ConvergenceWarning)\n",
      "C:\\Users\\Scott\\Anaconda3\\lib\\site-packages\\sklearn\\linear_model\\logistic.py:758: ConvergenceWarning: lbfgs failed to converge. Increase the number of iterations.\n",
      "  \"of iterations.\", ConvergenceWarning)\n",
      "C:\\Users\\Scott\\Anaconda3\\lib\\site-packages\\sklearn\\linear_model\\logistic.py:758: ConvergenceWarning: lbfgs failed to converge. Increase the number of iterations.\n",
      "  \"of iterations.\", ConvergenceWarning)\n",
      "C:\\Users\\Scott\\Anaconda3\\lib\\site-packages\\sklearn\\linear_model\\logistic.py:758: ConvergenceWarning: lbfgs failed to converge. Increase the number of iterations.\n",
      "  \"of iterations.\", ConvergenceWarning)\n",
      "C:\\Users\\Scott\\Anaconda3\\lib\\site-packages\\sklearn\\linear_model\\logistic.py:758: ConvergenceWarning: lbfgs failed to converge. Increase the number of iterations.\n",
      "  \"of iterations.\", ConvergenceWarning)\n",
      "C:\\Users\\Scott\\Anaconda3\\lib\\site-packages\\sklearn\\linear_model\\logistic.py:758: ConvergenceWarning: lbfgs failed to converge. Increase the number of iterations.\n",
      "  \"of iterations.\", ConvergenceWarning)\n",
      "C:\\Users\\Scott\\Anaconda3\\lib\\site-packages\\sklearn\\linear_model\\logistic.py:758: ConvergenceWarning: lbfgs failed to converge. Increase the number of iterations.\n",
      "  \"of iterations.\", ConvergenceWarning)\n",
      "C:\\Users\\Scott\\Anaconda3\\lib\\site-packages\\sklearn\\linear_model\\logistic.py:758: ConvergenceWarning: lbfgs failed to converge. Increase the number of iterations.\n",
      "  \"of iterations.\", ConvergenceWarning)\n",
      "C:\\Users\\Scott\\Anaconda3\\lib\\site-packages\\sklearn\\linear_model\\logistic.py:758: ConvergenceWarning: lbfgs failed to converge. Increase the number of iterations.\n",
      "  \"of iterations.\", ConvergenceWarning)\n",
      "C:\\Users\\Scott\\Anaconda3\\lib\\site-packages\\sklearn\\linear_model\\logistic.py:758: ConvergenceWarning: lbfgs failed to converge. Increase the number of iterations.\n",
      "  \"of iterations.\", ConvergenceWarning)\n",
      "C:\\Users\\Scott\\Anaconda3\\lib\\site-packages\\sklearn\\linear_model\\logistic.py:758: ConvergenceWarning: lbfgs failed to converge. Increase the number of iterations.\n",
      "  \"of iterations.\", ConvergenceWarning)\n",
      "C:\\Users\\Scott\\Anaconda3\\lib\\site-packages\\sklearn\\linear_model\\logistic.py:758: ConvergenceWarning: lbfgs failed to converge. Increase the number of iterations.\n",
      "  \"of iterations.\", ConvergenceWarning)\n",
      "C:\\Users\\Scott\\Anaconda3\\lib\\site-packages\\sklearn\\linear_model\\logistic.py:758: ConvergenceWarning: lbfgs failed to converge. Increase the number of iterations.\n",
      "  \"of iterations.\", ConvergenceWarning)\n"
     ]
    },
    {
     "name": "stdout",
     "output_type": "stream",
     "text": [
      "best_lambda = 0.600\n",
      "Coefficients = [-4.60944617] [[-0.45145875 -0.28466495 -0.06327731  0.68295812  1.21053202  0.91505006\n",
      "   2.83046274  1.4367798   0.24145467  0.35775817 -0.38642819 -0.4814281\n",
      "  -0.69586878  0.37457001  0.64885487  1.53956274  1.38118288  0.07197719\n",
      "   0.37642284  0.63501959  0.52274768  0.3856372   2.00138718  1.50817418\n",
      "  -3.14060875 -0.66617071 -4.90648494 -0.03260376 -1.28886324 -0.15745816\n",
      "  -0.63899741 -0.30229202 -1.0099018  -0.42568621 -1.08721685  1.28432907\n",
      "  -0.90558935 -0.35285898 -1.12971423 -0.6258932  -1.40337084 -2.44123424\n",
      "  -1.55653413 -1.94778103 -1.13113638 -2.79991175 -0.751223   -2.11602044\n",
      "  -1.68510856 -0.66773463 -0.69125592  2.06913162  4.21977699  0.76308941\n",
      "   0.70345801  0.17008549  0.43018823]]\n",
      "Accuracy on set aside test set for logt = 0.9434\n"
     ]
    },
    {
     "name": "stderr",
     "output_type": "stream",
     "text": [
      "C:\\Users\\Scott\\Anaconda3\\lib\\site-packages\\sklearn\\linear_model\\logistic.py:758: ConvergenceWarning: lbfgs failed to converge. Increase the number of iterations.\n",
      "  \"of iterations.\", ConvergenceWarning)\n"
     ]
    },
    {
     "name": "stdout",
     "output_type": "stream",
     "text": [
      "best_lambda = 1.600\n",
      "Coefficients = [-1.82566816] [[-1.78313887e-01 -1.60085506e-01 -3.73001110e-01  2.36358803e-01\n",
      "   9.46367588e-01  1.59613651e-01  2.03690641e+00  7.62617293e-01\n",
      "   1.81159712e-01  3.12388353e-01 -2.60352275e-01 -4.14115142e-01\n",
      "  -8.66097179e-01  2.36335390e-01  4.75358415e-01  1.43030139e+00\n",
      "   8.23118667e-01 -6.18540141e-02  2.39595773e-01  4.50237962e-01\n",
      "   7.24354332e-01  1.06352180e+00  8.70212070e-01  1.30340906e+00\n",
      "  -2.20348245e+00 -4.57176451e-01 -3.39242058e+00  5.45347540e-01\n",
      "  -5.60588209e-01 -1.85244388e-01 -8.05548612e-01 -4.84223733e-01\n",
      "  -6.36751901e-01 -8.68074831e-02 -6.31860077e-01  3.04485691e-01\n",
      "  -1.03756760e+00  4.18380738e-01 -7.08628404e-01 -2.18361509e-01\n",
      "  -1.07385026e+00 -1.74862153e+00 -6.95533233e-01 -1.43004581e+00\n",
      "  -7.40200632e-01 -2.11078935e+00 -9.46977030e-02 -1.24285032e+00\n",
      "  -2.91376072e-01  1.90460650e-01 -1.65731167e-01  1.19345678e+00\n",
      "   1.42337675e+00  6.04361397e-02  7.86190132e-04  7.86190132e-04\n",
      "   7.86190132e-04]]\n",
      "Accuracy on set aside test set for bin = 0.9284\n",
      "L1 Penalty experiments -----------\n",
      "best_lambda = 4.100\n",
      "Coefficients = [-1.73699857] [[-0.01236985 -0.16453804  0.12354238  0.23880307  0.25044973  0.18015133\n",
      "   0.91021388  0.29053404  0.14335342  0.04950021 -0.0293702  -0.14217674\n",
      "  -0.01129257  0.00966967  0.15856061  0.7628886   0.46478724  0.06794233\n",
      "   0.2563099   0.20396102  0.24506753  0.34909953  0.72720924  0.23139953\n",
      "  -2.41127417 -0.363917   -3.61923749 -0.01645777 -0.41016201  0.\n",
      "   0.          0.         -0.33471286  0.         -0.06956842  0.2586731\n",
      "   0.         -0.11933458 -0.322567   -0.05041744 -0.27782449 -0.84134248\n",
      "  -0.20225864 -0.59881342 -0.75123586 -1.22635156 -0.09138006 -0.54588226\n",
      "  -0.26426644 -0.13386918 -0.05824182  0.21698422  1.65529872  0.2702781\n",
      "   0.          0.67734444  0.33579901]]\n",
      "Accuracy on set aside test set for std = 0.9225\n",
      "best_lambda = 0.600\n",
      "Coefficients = [-4.75857431] [[ -0.495552    -0.16206237  -0.04986149   0.48791073   1.2437754\n",
      "    0.91928128   3.02074668   1.46795316   0.22883593   0.40378588\n",
      "   -0.32980516  -0.47274873  -0.6534812    0.34936468   0.10780892\n",
      "    1.52258536   1.53330846   0.           0.39678107   0.4966132\n",
      "    0.50279391   0.44606839   1.97859127   1.37270984  -3.69085273\n",
      "   -0.30263745 -12.44747642   0.          -1.40040433   0.\n",
      "    0.           0.          -0.90434483   0.          -1.04191333\n",
      "    1.36154065  -0.70541971   0.          -1.1426755    0.\n",
      "   -1.7850063   -3.28407486  -2.3222692   -2.46901269  -1.35175138\n",
      "   -3.19164299  -0.24549983  -3.66043991  -1.89718151  -0.68884591\n",
      "    0.           2.06459538   6.09049398   0.38849016   0.74867376\n",
      "    0.12613558   0.48254276]]\n",
      "Accuracy on set aside test set for logt = 0.9453\n",
      "best_lambda = 1.600\n",
      "Coefficients = [-0.35907647] [[-0.09393361 -0.08580941 -0.32527074  0.          0.96667101  0.11671889\n",
      "   2.18779162  0.76626419  0.13833366  0.3131421  -0.20993294 -0.43208558\n",
      "  -0.85144298  0.1134182   0.24276888  1.43573168  0.9271006  -0.00657777\n",
      "   0.17689081  0.39751659  0.68378626  1.08460317  0.79748401  1.38450686\n",
      "  -2.61823331 -0.16258165 -4.66649542  0.41850427 -0.21989135  0.\n",
      "  -0.54573978  0.         -0.54282048  0.         -0.47007745  0.18326762\n",
      "  -1.02394674  0.         -0.65840842  0.         -1.09067696 -2.03914829\n",
      "  -0.54384635 -1.54246255 -0.75905399 -2.38424554  0.         -1.44588984\n",
      "  -0.25627275  0.15559214  0.          1.18245415  1.52726327  0.\n",
      "  -0.64621438 -0.3106733  -0.44421959]]\n",
      "Accuracy on set aside test set for bin = 0.9251\n"
     ]
    }
   ],
   "source": [
    "# No modifications in this cell\n",
    "# complete the functions in utils.py; then run the cell\n",
    "\n",
    "Xtrain,Xtest,ytrain,ytest = utils.load_spam_data()\n",
    "\n",
    "# Preprocess the data \n",
    "\n",
    "Xtrain_std,mu,sigma = utils.std_features(Xtrain)\n",
    "Xtrain_logt = utils.log_features(Xtrain)\n",
    "Xtrain_bin = utils.bin_features(Xtrain)\n",
    "\n",
    "Xtest_std = (Xtest - mu)/sigma\n",
    "Xtest_logt = utils.log_features(Xtest)\n",
    "Xtest_bin = utils.bin_features(Xtest)\n",
    "\n",
    "# find good lambda by cross validation for these three sets\n",
    "\n",
    "def run_dataset(X,ytrain,Xt,ytest,typea,penalty):\n",
    "\n",
    "    best_lambda = utils.select_lambda_crossval(X,ytrain,0.1,5.1,0.5,penalty)\n",
    "    print(\"best_lambda = %.3f\" %best_lambda)\n",
    "\n",
    "    # train a classifier on best_lambda and run it\n",
    "    if penalty == \"l2\":\n",
    "        lreg = linear_model.LogisticRegression(penalty=penalty,C=1.0/best_lambda, solver='lbfgs',fit_intercept=True)\n",
    "    else:\n",
    "        lreg = linear_model.LogisticRegression(penalty=penalty,C=1.0/best_lambda, solver='liblinear',fit_intercept=True)\n",
    "    lreg.fit(X,ytrain)\n",
    "    print(\"Coefficients = %s\" %lreg.intercept_,lreg.coef_)\n",
    "    predy = lreg.predict(Xt)\n",
    "    print(\"Accuracy on set aside test set for %s = %.4f\" %(typea, np.mean(predy==ytest)))\n",
    "\n",
    "print(\"L2 Penalty experiments -----------\")\n",
    "run_dataset(Xtrain_std,ytrain,Xtest_std,ytest,\"std\",\"l2\")\n",
    "run_dataset(Xtrain_logt,ytrain,Xtest_logt,ytest,\"logt\",\"l2\")\n",
    "run_dataset(Xtrain_bin,ytrain,Xtest_bin,ytest,\"bin\",\"l2\")\n",
    "\n",
    "print(\"L1 Penalty experiments -----------\")\n",
    "run_dataset(Xtrain_std,ytrain,Xtest_std,ytest,\"std\",\"l1\")\n",
    "run_dataset(Xtrain_logt,ytrain,Xtest_logt,ytest,\"logt\",\"l1\")\n",
    "run_dataset(Xtrain_bin,ytrain,Xtest_bin,ytest,\"bin\",\"l1\")"
   ]
  },
  {
   "cell_type": "code",
   "execution_count": null,
   "metadata": {},
   "outputs": [],
   "source": []
  }
 ],
 "metadata": {
  "kernelspec": {
   "display_name": "Python 3",
   "language": "python",
   "name": "python3"
  },
  "language_info": {
   "codemirror_mode": {
    "name": "ipython",
    "version": 3
   },
   "file_extension": ".py",
   "mimetype": "text/x-python",
   "name": "python",
   "nbconvert_exporter": "python",
   "pygments_lexer": "ipython3",
   "version": "3.7.4"
  }
 },
 "nbformat": 4,
 "nbformat_minor": 1
}
